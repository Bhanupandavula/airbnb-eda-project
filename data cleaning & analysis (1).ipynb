{
 "cells": [
  {
   "cell_type": "code",
   "execution_count": 1,
   "id": "f8d070ba-6ed4-4c30-a499-86f265eaff3c",
   "metadata": {},
   "outputs": [],
   "source": [
    "import pandas as pd\n",
    "import matplotlib.pyplot as plt\n",
    "import seaborn as sns"
   ]
  },
  {
   "cell_type": "code",
   "execution_count": 99,
   "id": "724f3e67-a514-4cf1-b392-22b64e35d2a0",
   "metadata": {},
   "outputs": [
    {
     "data": {
      "text/html": [
       "<div>\n",
       "<style scoped>\n",
       "    .dataframe tbody tr th:only-of-type {\n",
       "        vertical-align: middle;\n",
       "    }\n",
       "\n",
       "    .dataframe tbody tr th {\n",
       "        vertical-align: top;\n",
       "    }\n",
       "\n",
       "    .dataframe thead th {\n",
       "        text-align: right;\n",
       "    }\n",
       "</style>\n",
       "<table border=\"1\" class=\"dataframe\">\n",
       "  <thead>\n",
       "    <tr style=\"text-align: right;\">\n",
       "      <th></th>\n",
       "      <th>id</th>\n",
       "      <th>name</th>\n",
       "      <th>host_id</th>\n",
       "      <th>host_name</th>\n",
       "      <th>neighbourhood_group</th>\n",
       "      <th>neighbourhood</th>\n",
       "      <th>latitude</th>\n",
       "      <th>longitude</th>\n",
       "      <th>room_type</th>\n",
       "      <th>price</th>\n",
       "      <th>minimum_nights</th>\n",
       "      <th>number_of_reviews</th>\n",
       "      <th>last_review</th>\n",
       "      <th>reviews_per_month</th>\n",
       "      <th>calculated_host_listings_count</th>\n",
       "      <th>availability_365</th>\n",
       "      <th>number_of_reviews_ltm</th>\n",
       "      <th>license</th>\n",
       "    </tr>\n",
       "  </thead>\n",
       "  <tbody>\n",
       "    <tr>\n",
       "      <th>0</th>\n",
       "      <td>5456</td>\n",
       "      <td>Walk to 6th, Rainey St and Convention Ctr</td>\n",
       "      <td>8028</td>\n",
       "      <td>Sylvia</td>\n",
       "      <td>NaN</td>\n",
       "      <td>78702</td>\n",
       "      <td>30.26057</td>\n",
       "      <td>-97.73441</td>\n",
       "      <td>Entire home/apt</td>\n",
       "      <td>274.0</td>\n",
       "      <td>2</td>\n",
       "      <td>702</td>\n",
       "      <td>2025-02-24</td>\n",
       "      <td>3.60</td>\n",
       "      <td>1</td>\n",
       "      <td>325</td>\n",
       "      <td>32</td>\n",
       "      <td>NaN</td>\n",
       "    </tr>\n",
       "    <tr>\n",
       "      <th>1</th>\n",
       "      <td>5769</td>\n",
       "      <td>NW Austin Room</td>\n",
       "      <td>8186</td>\n",
       "      <td>Elizabeth</td>\n",
       "      <td>NaN</td>\n",
       "      <td>78729</td>\n",
       "      <td>30.45697</td>\n",
       "      <td>-97.78422</td>\n",
       "      <td>Private room</td>\n",
       "      <td>NaN</td>\n",
       "      <td>1</td>\n",
       "      <td>299</td>\n",
       "      <td>2024-06-09</td>\n",
       "      <td>1.65</td>\n",
       "      <td>1</td>\n",
       "      <td>0</td>\n",
       "      <td>4</td>\n",
       "      <td>NaN</td>\n",
       "    </tr>\n",
       "    <tr>\n",
       "      <th>2</th>\n",
       "      <td>6413</td>\n",
       "      <td>Gem of a Studio near Downtown</td>\n",
       "      <td>13879</td>\n",
       "      <td>Todd</td>\n",
       "      <td>NaN</td>\n",
       "      <td>78704</td>\n",
       "      <td>30.24885</td>\n",
       "      <td>-97.73587</td>\n",
       "      <td>Entire home/apt</td>\n",
       "      <td>189.0</td>\n",
       "      <td>30</td>\n",
       "      <td>122</td>\n",
       "      <td>2024-10-01</td>\n",
       "      <td>0.66</td>\n",
       "      <td>1</td>\n",
       "      <td>0</td>\n",
       "      <td>2</td>\n",
       "      <td>NaN</td>\n",
       "    </tr>\n",
       "    <tr>\n",
       "      <th>3</th>\n",
       "      <td>6448</td>\n",
       "      <td>Secluded Studio @ Zilker - King Bed, Bright &amp; ...</td>\n",
       "      <td>14156</td>\n",
       "      <td>Amy</td>\n",
       "      <td>NaN</td>\n",
       "      <td>78704</td>\n",
       "      <td>30.26034</td>\n",
       "      <td>-97.76487</td>\n",
       "      <td>Entire home/apt</td>\n",
       "      <td>240.0</td>\n",
       "      <td>3</td>\n",
       "      <td>334</td>\n",
       "      <td>2025-02-17</td>\n",
       "      <td>2.03</td>\n",
       "      <td>1</td>\n",
       "      <td>171</td>\n",
       "      <td>21</td>\n",
       "      <td>NaN</td>\n",
       "    </tr>\n",
       "    <tr>\n",
       "      <th>4</th>\n",
       "      <td>8502</td>\n",
       "      <td>Woodland Studio Lodging</td>\n",
       "      <td>25298</td>\n",
       "      <td>Karen</td>\n",
       "      <td>NaN</td>\n",
       "      <td>78741</td>\n",
       "      <td>30.23466</td>\n",
       "      <td>-97.73682</td>\n",
       "      <td>Entire home/apt</td>\n",
       "      <td>NaN</td>\n",
       "      <td>4</td>\n",
       "      <td>53</td>\n",
       "      <td>2024-04-14</td>\n",
       "      <td>0.29</td>\n",
       "      <td>1</td>\n",
       "      <td>13</td>\n",
       "      <td>2</td>\n",
       "      <td>NaN</td>\n",
       "    </tr>\n",
       "  </tbody>\n",
       "</table>\n",
       "</div>"
      ],
      "text/plain": [
       "     id                                               name  host_id  \\\n",
       "0  5456          Walk to 6th, Rainey St and Convention Ctr     8028   \n",
       "1  5769                                     NW Austin Room     8186   \n",
       "2  6413                      Gem of a Studio near Downtown    13879   \n",
       "3  6448  Secluded Studio @ Zilker - King Bed, Bright & ...    14156   \n",
       "4  8502                            Woodland Studio Lodging    25298   \n",
       "\n",
       "   host_name  neighbourhood_group  neighbourhood  latitude  longitude  \\\n",
       "0     Sylvia                  NaN          78702  30.26057  -97.73441   \n",
       "1  Elizabeth                  NaN          78729  30.45697  -97.78422   \n",
       "2       Todd                  NaN          78704  30.24885  -97.73587   \n",
       "3        Amy                  NaN          78704  30.26034  -97.76487   \n",
       "4      Karen                  NaN          78741  30.23466  -97.73682   \n",
       "\n",
       "         room_type  price  minimum_nights  number_of_reviews last_review  \\\n",
       "0  Entire home/apt  274.0               2                702  2025-02-24   \n",
       "1     Private room    NaN               1                299  2024-06-09   \n",
       "2  Entire home/apt  189.0              30                122  2024-10-01   \n",
       "3  Entire home/apt  240.0               3                334  2025-02-17   \n",
       "4  Entire home/apt    NaN               4                 53  2024-04-14   \n",
       "\n",
       "   reviews_per_month  calculated_host_listings_count  availability_365  \\\n",
       "0               3.60                               1               325   \n",
       "1               1.65                               1                 0   \n",
       "2               0.66                               1                 0   \n",
       "3               2.03                               1               171   \n",
       "4               0.29                               1                13   \n",
       "\n",
       "   number_of_reviews_ltm  license  \n",
       "0                     32      NaN  \n",
       "1                      4      NaN  \n",
       "2                      2      NaN  \n",
       "3                     21      NaN  \n",
       "4                      2      NaN  "
      ]
     },
     "execution_count": 99,
     "metadata": {},
     "output_type": "execute_result"
    }
   ],
   "source": [
    "df = pd.read_csv('listings.csv')\n",
    "df.head()"
   ]
  },
  {
   "cell_type": "code",
   "execution_count": 101,
   "id": "3fbbbb61-c645-4a14-b0f5-1514e0939fa4",
   "metadata": {},
   "outputs": [
    {
     "data": {
      "text/html": [
       "<div>\n",
       "<style scoped>\n",
       "    .dataframe tbody tr th:only-of-type {\n",
       "        vertical-align: middle;\n",
       "    }\n",
       "\n",
       "    .dataframe tbody tr th {\n",
       "        vertical-align: top;\n",
       "    }\n",
       "\n",
       "    .dataframe thead th {\n",
       "        text-align: right;\n",
       "    }\n",
       "</style>\n",
       "<table border=\"1\" class=\"dataframe\">\n",
       "  <thead>\n",
       "    <tr style=\"text-align: right;\">\n",
       "      <th></th>\n",
       "      <th>id</th>\n",
       "      <th>name</th>\n",
       "      <th>host_id</th>\n",
       "      <th>host_name</th>\n",
       "      <th>neighbourhood_group</th>\n",
       "      <th>neighbourhood</th>\n",
       "      <th>latitude</th>\n",
       "      <th>longitude</th>\n",
       "      <th>room_type</th>\n",
       "      <th>price</th>\n",
       "      <th>minimum_nights</th>\n",
       "      <th>number_of_reviews</th>\n",
       "      <th>last_review</th>\n",
       "      <th>reviews_per_month</th>\n",
       "      <th>calculated_host_listings_count</th>\n",
       "      <th>availability_365</th>\n",
       "      <th>number_of_reviews_ltm</th>\n",
       "      <th>license</th>\n",
       "    </tr>\n",
       "  </thead>\n",
       "  <tbody>\n",
       "    <tr>\n",
       "      <th>15426</th>\n",
       "      <td>1369030977278306490</td>\n",
       "      <td>Flex basic</td>\n",
       "      <td>663332247</td>\n",
       "      <td>Natnael</td>\n",
       "      <td>NaN</td>\n",
       "      <td>78705</td>\n",
       "      <td>30.292779</td>\n",
       "      <td>-97.725420</td>\n",
       "      <td>Private room</td>\n",
       "      <td>23.0</td>\n",
       "      <td>30</td>\n",
       "      <td>0</td>\n",
       "      <td>NaN</td>\n",
       "      <td>NaN</td>\n",
       "      <td>14</td>\n",
       "      <td>347</td>\n",
       "      <td>0</td>\n",
       "      <td>NaN</td>\n",
       "    </tr>\n",
       "    <tr>\n",
       "      <th>15427</th>\n",
       "      <td>1369031004106068720</td>\n",
       "      <td>Stylish &amp; Lux Stay | Walk to Top Eats &amp; Pickle...</td>\n",
       "      <td>19137768</td>\n",
       "      <td>Kristen</td>\n",
       "      <td>NaN</td>\n",
       "      <td>78722</td>\n",
       "      <td>30.286520</td>\n",
       "      <td>-97.712380</td>\n",
       "      <td>Entire home/apt</td>\n",
       "      <td>312.0</td>\n",
       "      <td>2</td>\n",
       "      <td>0</td>\n",
       "      <td>NaN</td>\n",
       "      <td>NaN</td>\n",
       "      <td>2</td>\n",
       "      <td>4</td>\n",
       "      <td>0</td>\n",
       "      <td>NaN</td>\n",
       "    </tr>\n",
       "    <tr>\n",
       "      <th>15428</th>\n",
       "      <td>1369057136333994471</td>\n",
       "      <td>Hill Country Hideout-Pool-HotTub</td>\n",
       "      <td>68569490</td>\n",
       "      <td>Evan &amp; Lala</td>\n",
       "      <td>NaN</td>\n",
       "      <td>78737</td>\n",
       "      <td>30.224096</td>\n",
       "      <td>-98.008301</td>\n",
       "      <td>Entire home/apt</td>\n",
       "      <td>444.0</td>\n",
       "      <td>2</td>\n",
       "      <td>1</td>\n",
       "      <td>2025-03-10</td>\n",
       "      <td>1.0</td>\n",
       "      <td>1</td>\n",
       "      <td>339</td>\n",
       "      <td>1</td>\n",
       "      <td>NaN</td>\n",
       "    </tr>\n",
       "    <tr>\n",
       "      <th>15429</th>\n",
       "      <td>1369090281815642314</td>\n",
       "      <td>Vibrant East Austin Retreat Private 2 Bedroom ...</td>\n",
       "      <td>142909764</td>\n",
       "      <td>The</td>\n",
       "      <td>NaN</td>\n",
       "      <td>78721</td>\n",
       "      <td>30.255941</td>\n",
       "      <td>-97.685958</td>\n",
       "      <td>Entire home/apt</td>\n",
       "      <td>116.0</td>\n",
       "      <td>1</td>\n",
       "      <td>0</td>\n",
       "      <td>NaN</td>\n",
       "      <td>NaN</td>\n",
       "      <td>7</td>\n",
       "      <td>61</td>\n",
       "      <td>0</td>\n",
       "      <td>NaN</td>\n",
       "    </tr>\n",
       "    <tr>\n",
       "      <th>15430</th>\n",
       "      <td>1369133036341359961</td>\n",
       "      <td>Hot Tub &amp; Pool, Stunning 4BD Near Domain &amp; Cap...</td>\n",
       "      <td>56352966</td>\n",
       "      <td>Krishni</td>\n",
       "      <td>NaN</td>\n",
       "      <td>78753</td>\n",
       "      <td>30.356580</td>\n",
       "      <td>-97.697823</td>\n",
       "      <td>Entire home/apt</td>\n",
       "      <td>242.0</td>\n",
       "      <td>1</td>\n",
       "      <td>1</td>\n",
       "      <td>2025-03-06</td>\n",
       "      <td>1.0</td>\n",
       "      <td>1</td>\n",
       "      <td>365</td>\n",
       "      <td>1</td>\n",
       "      <td>NaN</td>\n",
       "    </tr>\n",
       "  </tbody>\n",
       "</table>\n",
       "</div>"
      ],
      "text/plain": [
       "                        id                                               name  \\\n",
       "15426  1369030977278306490                                         Flex basic   \n",
       "15427  1369031004106068720  Stylish & Lux Stay | Walk to Top Eats & Pickle...   \n",
       "15428  1369057136333994471                   Hill Country Hideout-Pool-HotTub   \n",
       "15429  1369090281815642314  Vibrant East Austin Retreat Private 2 Bedroom ...   \n",
       "15430  1369133036341359961  Hot Tub & Pool, Stunning 4BD Near Domain & Cap...   \n",
       "\n",
       "         host_id    host_name  neighbourhood_group  neighbourhood   latitude  \\\n",
       "15426  663332247      Natnael                  NaN          78705  30.292779   \n",
       "15427   19137768      Kristen                  NaN          78722  30.286520   \n",
       "15428   68569490  Evan & Lala                  NaN          78737  30.224096   \n",
       "15429  142909764          The                  NaN          78721  30.255941   \n",
       "15430   56352966      Krishni                  NaN          78753  30.356580   \n",
       "\n",
       "       longitude        room_type  price  minimum_nights  number_of_reviews  \\\n",
       "15426 -97.725420     Private room   23.0              30                  0   \n",
       "15427 -97.712380  Entire home/apt  312.0               2                  0   \n",
       "15428 -98.008301  Entire home/apt  444.0               2                  1   \n",
       "15429 -97.685958  Entire home/apt  116.0               1                  0   \n",
       "15430 -97.697823  Entire home/apt  242.0               1                  1   \n",
       "\n",
       "      last_review  reviews_per_month  calculated_host_listings_count  \\\n",
       "15426         NaN                NaN                              14   \n",
       "15427         NaN                NaN                               2   \n",
       "15428  2025-03-10                1.0                               1   \n",
       "15429         NaN                NaN                               7   \n",
       "15430  2025-03-06                1.0                               1   \n",
       "\n",
       "       availability_365  number_of_reviews_ltm  license  \n",
       "15426               347                      0      NaN  \n",
       "15427                 4                      0      NaN  \n",
       "15428               339                      1      NaN  \n",
       "15429                61                      0      NaN  \n",
       "15430               365                      1      NaN  "
      ]
     },
     "execution_count": 101,
     "metadata": {},
     "output_type": "execute_result"
    }
   ],
   "source": [
    "df.tail()"
   ]
  },
  {
   "cell_type": "code",
   "execution_count": 57,
   "id": "5e717bac-1ed9-478f-ae80-9797e8d5092a",
   "metadata": {},
   "outputs": [
    {
     "name": "stdout",
     "output_type": "stream",
     "text": [
      "<class 'pandas.core.frame.DataFrame'>\n",
      "RangeIndex: 15431 entries, 0 to 15430\n",
      "Data columns (total 18 columns):\n",
      " #   Column                          Non-Null Count  Dtype  \n",
      "---  ------                          --------------  -----  \n",
      " 0   id                              15431 non-null  int64  \n",
      " 1   name                            15431 non-null  object \n",
      " 2   host_id                         15431 non-null  int64  \n",
      " 3   host_name                       15410 non-null  object \n",
      " 4   neighbourhood_group             0 non-null      float64\n",
      " 5   neighbourhood                   15431 non-null  int64  \n",
      " 6   latitude                        15431 non-null  float64\n",
      " 7   longitude                       15431 non-null  float64\n",
      " 8   room_type                       15431 non-null  object \n",
      " 9   price                           11029 non-null  float64\n",
      " 10  minimum_nights                  15431 non-null  int64  \n",
      " 11  number_of_reviews               15431 non-null  int64  \n",
      " 12  last_review                     12394 non-null  object \n",
      " 13  reviews_per_month               12394 non-null  float64\n",
      " 14  calculated_host_listings_count  15431 non-null  int64  \n",
      " 15  availability_365                15431 non-null  int64  \n",
      " 16  number_of_reviews_ltm           15431 non-null  int64  \n",
      " 17  license                         0 non-null      float64\n",
      "dtypes: float64(6), int64(8), object(4)\n",
      "memory usage: 2.1+ MB\n"
     ]
    }
   ],
   "source": [
    "df.info()"
   ]
  },
  {
   "cell_type": "code",
   "execution_count": 61,
   "id": "30017dc5-ae12-4c7d-9a1c-43d179468173",
   "metadata": {},
   "outputs": [
    {
     "data": {
      "text/plain": [
       "id                                    0\n",
       "name                                  0\n",
       "host_id                               0\n",
       "host_name                            21\n",
       "neighbourhood_group               15431\n",
       "neighbourhood                         0\n",
       "latitude                              0\n",
       "longitude                             0\n",
       "room_type                             0\n",
       "price                              4402\n",
       "minimum_nights                        0\n",
       "number_of_reviews                     0\n",
       "last_review                        3037\n",
       "reviews_per_month                  3037\n",
       "calculated_host_listings_count        0\n",
       "availability_365                      0\n",
       "number_of_reviews_ltm                 0\n",
       "license                           15431\n",
       "dtype: int64"
      ]
     },
     "execution_count": 61,
     "metadata": {},
     "output_type": "execute_result"
    }
   ],
   "source": [
    "df.isnull().sum()"
   ]
  },
  {
   "cell_type": "markdown",
   "id": "fa81e036-4920-48bd-bb4a-3d66db84ae7b",
   "metadata": {},
   "source": [
    "# Drop Coloumns "
   ]
  },
  {
   "cell_type": "code",
   "execution_count": 77,
   "id": "9f4174ab-1652-481e-bd13-8d1968df1424",
   "metadata": {},
   "outputs": [],
   "source": [
    "df= df.dropna(thresh=len(df)*0.5,axis=1)"
   ]
  },
  {
   "cell_type": "markdown",
   "id": "46cbf7e4-30f2-408e-ae91-446d52c27173",
   "metadata": {},
   "source": [
    "# Fill numerical missing values with median"
   ]
  },
  {
   "cell_type": "code",
   "execution_count": 80,
   "id": "4e46ddeb-6327-434c-890f-2643787d4d16",
   "metadata": {},
   "outputs": [],
   "source": [
    "num_cols = df.select_dtypes(include=['float64', 'int64']).columns\n",
    "df[num_cols] = df[num_cols].fillna(df[num_cols].median())"
   ]
  },
  {
   "cell_type": "markdown",
   "id": "0e7d9763-2f57-4565-81bb-b7d62a4c6146",
   "metadata": {},
   "source": [
    "# Fill categorical missing with 'Unknown"
   ]
  },
  {
   "cell_type": "code",
   "execution_count": 85,
   "id": "c2c96614-9df8-4c10-84a6-e56222e6d826",
   "metadata": {},
   "outputs": [],
   "source": [
    "cat_cols = df.select_dtypes(include='object').columns\n",
    "df[cat_cols] = df[cat_cols].fillna('Unknown')"
   ]
  },
  {
   "cell_type": "markdown",
   "id": "06be625c-17e3-457c-9cff-71b41f951a7b",
   "metadata": {},
   "source": [
    "# clean price"
   ]
  },
  {
   "cell_type": "code",
   "execution_count": 92,
   "id": "4b946d6e-a18c-434d-b16b-1465caf308dd",
   "metadata": {},
   "outputs": [],
   "source": [
    "df['price'] = df['price'].replace(r'[\\$,]', '', regex=True).astype(float)\n"
   ]
  },
  {
   "cell_type": "markdown",
   "id": "f0bb4cbe-6254-43ed-a4b3-3c6f801d5f0f",
   "metadata": {},
   "source": [
    "# Handle 0 bedrooms to avoid division by zero"
   ]
  },
  {
   "cell_type": "code",
   "execution_count": 105,
   "id": "13ad0134-0e69-4d6e-a3a1-7706505477c5",
   "metadata": {},
   "outputs": [],
   "source": [
    "df['room_type'] = df['room_type'].replace(0, 1)"
   ]
  },
  {
   "cell_type": "code",
   "execution_count": 114,
   "id": "c098d16f-4d21-4303-b7fe-e39c225b3446",
   "metadata": {},
   "outputs": [
    {
     "name": "stdout",
     "output_type": "stream",
     "text": [
      "['id', 'name', 'host_id', 'host_name', 'neighbourhood_group', 'neighbourhood', 'latitude', 'longitude', 'room_type', 'price', 'minimum_nights', 'number_of_reviews', 'last_review', 'reviews_per_month', 'calculated_host_listings_count', 'availability_365', 'number_of_reviews_ltm', 'license']\n"
     ]
    }
   ],
   "source": [
    "print(df.columns.tolist())\n"
   ]
  },
  {
   "cell_type": "code",
   "execution_count": 116,
   "id": "36942965-481f-4439-b6a4-399e32529ee1",
   "metadata": {},
   "outputs": [
    {
     "name": "stdout",
     "output_type": "stream",
     "text": [
      "['id', 'host_id', 'neighbourhood_group', 'neighbourhood', 'latitude', 'longitude', 'price', 'minimum_nights', 'number_of_reviews', 'reviews_per_month', 'calculated_host_listings_count', 'availability_365', 'number_of_reviews_ltm', 'license']\n"
     ]
    }
   ],
   "source": [
    "print(df.select_dtypes(include=['int64', 'float64']).columns.tolist())\n"
   ]
  },
  {
   "cell_type": "markdown",
   "id": "4cda8294-6afd-41bc-a935-4838c03f79a2",
   "metadata": {},
   "source": [
    "# Create new feature"
   ]
  },
  {
   "cell_type": "code",
   "execution_count": 118,
   "id": "08db248b-c05f-4584-b7e7-5174c4cfcd6a",
   "metadata": {},
   "outputs": [],
   "source": [
    "df['price_per_available_day'] = df['price'] / df['availability_365'].replace(0, 1)\n"
   ]
  },
  {
   "cell_type": "code",
   "execution_count": 120,
   "id": "c92dec63-e4dd-4c82-879f-7a6ace0ba094",
   "metadata": {},
   "outputs": [],
   "source": [
    "df['price_per_review'] = df['price'] / df['number_of_reviews'].replace(0, 1)\n"
   ]
  },
  {
   "cell_type": "code",
   "execution_count": 122,
   "id": "b8968d49-6fb3-4ef9-a6eb-b966a02f26e3",
   "metadata": {},
   "outputs": [
    {
     "data": {
      "text/plain": [
       "room_type\n",
       "Entire home/apt    372.060616\n",
       "Hotel room         503.789916\n",
       "Private room       149.300469\n",
       "Shared room        128.984615\n",
       "Name: price, dtype: float64"
      ]
     },
     "execution_count": 122,
     "metadata": {},
     "output_type": "execute_result"
    }
   ],
   "source": [
    "df.groupby('room_type')['price'].mean()\n"
   ]
  },
  {
   "cell_type": "markdown",
   "id": "ad0da4b3-251e-4e2d-a5a0-ce4b80930ee1",
   "metadata": {},
   "source": [
    "# Visualization"
   ]
  },
  {
   "cell_type": "code",
   "execution_count": 125,
   "id": "fce394c0-08e2-4930-b966-b34ea902fe0f",
   "metadata": {},
   "outputs": [
    {
     "data": {
      "image/png": "[encoded data removed]",
      "text/plain": [
       "<Figure size 1000x600 with 1 Axes>"
      ]
     },
     "metadata": {},
     "output_type": "display_data"
    }
   ],
   "source": [
    "import matplotlib.pyplot as plt\n",
    "import seaborn as sns\n",
    "\n",
    "plt.figure(figsize=(10,6))\n",
    "sns.histplot(df['price'], bins=50, kde=True)\n",
    "plt.title('Price Distribution')\n",
    "plt.xlim(0, 500)  # focus on prices under $500\n",
    "plt.show()\n"
   ]
  },
  {
   "cell_type": "markdown",
   "id": "fb0bbd23-b92b-4032-aa2e-fb904e4d4ee3",
   "metadata": {},
   "source": [
    "# Price Availability"
   ]
  },
  {
   "cell_type": "code",
   "execution_count": 130,
   "id": "3e8df482-3bad-4ff4-9a54-2156fc9c9f2f",
   "metadata": {},
   "outputs": [
    {
     "data": {
      "image/png": "[encoded data removed]",
      "text/plain": [
       "<Figure size 1000x600 with 1 Axes>"
      ]
     },
     "metadata": {},
     "output_type": "display_data"
    }
   ],
   "source": [
    "plt.figure(figsize=(10,6))\n",
    "sns.histplot(df['availability_365'], bins = 30,kde= False)\n",
    "plt.title('Availability(days per year)')\n",
    "plt.show()"
   ]
  },
  {
   "cell_type": "markdown",
   "id": "80f294ec-ac98-4d60-ac92-96591aef49a1",
   "metadata": {},
   "source": [
    "## Top 10 Neighborhoods by Listing Count"
   ]
  },
  {
   "cell_type": "code",
   "execution_count": 135,
   "id": "9ab07fcd-4bcf-4446-b7ef-a05e9627e2a5",
   "metadata": {},
   "outputs": [
    {
     "data": {
      "image/png": "[encoded data removed]",
      "text/plain": [
       "<Figure size 1200x600 with 1 Axes>"
      ]
     },
     "metadata": {},
     "output_type": "display_data"
    }
   ],
   "source": [
    "top_neighborhoods = df['neighbourhood'].value_counts().head(10)\n",
    "\n",
    "plt.figure(figsize=(12,6))\n",
    "sns.barplot(x=top_neighborhoods.index, y=top_neighborhoods.values)\n",
    "plt.xticks(rotation=45)\n",
    "plt.title('Top 10 Neighbourhoods by Number of Listings')\n",
    "plt.show()\n"
   ]
  },
  {
   "cell_type": "code",
   "execution_count": 139,
   "id": "ff320c91-afa7-4309-a3d5-160dad4f4595",
   "metadata": {},
   "outputs": [
    {
     "data": {
      "text/plain": [
       "189.0"
      ]
     },
     "execution_count": 139,
     "metadata": {},
     "output_type": "execute_result"
    }
   ],
   "source": [
    "df['price'].median()"
   ]
  },
  {
   "cell_type": "code",
   "execution_count": 141,
   "id": "ee3752c3-eaea-4c53-85c2-af97697409c5",
   "metadata": {},
   "outputs": [
    {
     "data": {
      "text/plain": [
       "neighbourhood\n",
       "78704    2330\n",
       "78702    1828\n",
       "78701    1206\n",
       "Name: count, dtype: int64"
      ]
     },
     "execution_count": 141,
     "metadata": {},
     "output_type": "execute_result"
    }
   ],
   "source": [
    "df['neighbourhood'].value_counts().head(3)"
   ]
  },
  {
   "cell_type": "code",
   "execution_count": 143,
   "id": "c536d12e-075f-4238-8d44-15492cd186f3",
   "metadata": {},
   "outputs": [
    {
     "data": {
      "text/plain": [
       "23.64720368090208"
      ]
     },
     "execution_count": 143,
     "metadata": {},
     "output_type": "execute_result"
    }
   ],
   "source": [
    "(df['availability_365'] > 300).mean() * 100"
   ]
  },
  {
   "cell_type": "markdown",
   "id": "2c896558-c6b8-4563-a6c0-36253cb8349a",
   "metadata": {},
   "source": [
    "## Key Findings\n",
    "1. Median price of listings is around $189.0."
   ]
  },
  {
   "cell_type": "markdown",
   "id": "10da5766-1a2c-4cbd-8cfd-f225286ce7c1",
   "metadata": {},
   "source": [
    "#\n",
    "2. Top 3 neighborhoods with the most listings are 78704, 78702, and 78701."
   ]
  },
  {
   "cell_type": "markdown",
   "id": "799b0bfe-d69a-4414-a3c0-f6c4beb4e890",
   "metadata": {},
   "source": [
    "#\n",
    "3. 23.64% of listings are available more than 300 days a year."
   ]
  },
  {
   "cell_type": "markdown",
   "id": "e11d8f26-7a88-4689-8b63-e19046b58f79",
   "metadata": {},
   "source": [
    "#\n",
    "4. Price distribution is right-skewed, with most listings under $200."
   ]
  },
  {
   "cell_type": "markdown",
   "id": "7eaf8823-7790-48f8-88e9-db079c201bff",
   "metadata": {},
   "source": [
    "#\n",
    "5. Most hosts have only 1 listing; few hosts manage more than 10 listings."
   ]
  },
  {
   "cell_type": "markdown",
   "id": "fc3f78b1-2acc-483c-9956-22239e76a5c2",
   "metadata": {},
   "source": [
    "#\n",
    "6. Minimum nights mostly range between 1 and 3 nights."
   ]
  },
  {
   "cell_type": "markdown",
   "id": "45a6bd1e-8b8e-4d2c-9974-d790f172e575",
   "metadata": {},
   "source": [
    "#\n",
    "7. Listings with more reviews tend to have higher availability."
   ]
  }
 ],
 "metadata": {
  "kernelspec": {
   "display_name": "Python 3 (ipykernel)",
   "language": "python",
   "name": "python3"
  },
  "language_info": {
   "codemirror_mode": {
    "name": "ipython",
    "version": 3
   },
   "file_extension": ".py",
   "mimetype": "text/x-python",
   "name": "python",
   "nbconvert_exporter": "python",
   "pygments_lexer": "ipython3",
   "version": "3.12.4"
  }
 },
 "nbformat": 4,
 "nbformat_minor": 5
}
